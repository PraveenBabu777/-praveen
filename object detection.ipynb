{
  "nbformat": 4,
  "nbformat_minor": 0,
  "metadata": {
    "colab": {
      "provenance": [],
      "authorship_tag": "ABX9TyPOG8GBnZ+y0A8B7ipgCSuc",
      "include_colab_link": true
    },
    "kernelspec": {
      "name": "python3",
      "display_name": "Python 3"
    },
    "language_info": {
      "name": "python"
    }
  },
  "cells": [
    {
      "cell_type": "markdown",
      "metadata": {
        "id": "view-in-github",
        "colab_type": "text"
      },
      "source": [
        "<a href=\"https://colab.research.google.com/github/PraveenBabu777/-praveen/blob/main/object%20detection.ipynb\" target=\"_parent\"><img src=\"https://colab.research.google.com/assets/colab-badge.svg\" alt=\"Open In Colab\"/></a>"
      ]
    },
    {
      "cell_type": "code",
      "execution_count": null,
      "metadata": {
        "colab": {
          "base_uri": "https://localhost:8080/"
        },
        "id": "xhB001Ted4bF",
        "outputId": "08cb2d76-f3d3-4eb1-ba20-5ce268b7d4c0"
      },
      "outputs": [
        {
          "output_type": "stream",
          "name": "stdout",
          "text": [
            "Detected couch with confidence 0.994 at location [0.03, 3.02, 2938.68, 1936.45]\n",
            "Detected dog with confidence 0.961 at location [385.49, 250.76, 1875.71, 1697.93]\n"
          ]
        }
      ],
      "source": [
        "from transformers import DetrImageProcessor, DetrForObjectDetection\n",
        "import torch\n",
        "from PIL import Image\n",
        "import requests\n",
        "\n",
        "url = \"https://plus.unsplash.com/premium_photo-1731629278058-4c9854a67d46?q=80&w=2940&auto=format&fit=crop&ixlib=rb-4.0.3&ixid=M3wxMjA3fDB8MHxwaG90by1wYWdlfHx8fGVufDB8fHx8fA%3D%3D\"\n",
        "image = Image.open(requests.get(url, stream=True).raw)\n",
        "\n",
        "# you can specify the revision tag if you don't want the timm dependency\n",
        "processor = DetrImageProcessor.from_pretrained(\"facebook/detr-resnet-50\", revision=\"no_timm\")\n",
        "model = DetrForObjectDetection.from_pretrained(\"facebook/detr-resnet-50\", revision=\"no_timm\")\n",
        "\n",
        "inputs = processor(images=image, return_tensors=\"pt\")\n",
        "outputs = model(**inputs)\n",
        "\n",
        "# convert outputs (bounding boxes and class logits) to COCO API\n",
        "# let's only keep detections with score > 0.9\n",
        "target_sizes = torch.tensor([image.size[::-1]])\n",
        "results = processor.post_process_object_detection(outputs, target_sizes=target_sizes, threshold=0.9)[0]\n",
        "\n",
        "for score, label, box in zip(results[\"scores\"], results[\"labels\"], results[\"boxes\"]):\n",
        "    box = [round(i, 2) for i in box.tolist()]\n",
        "    print(\n",
        "            f\"Detected {model.config.id2label[label.item()]} with confidence \"\n",
        "            f\"{round(score.item(), 3)} at location {box}\"\n",
        "    )"
      ]
    },
    {
      "cell_type": "code",
      "source": [
        "from transformers import DetrImageProcessor, DetrForObjectDetection\n",
        "import torch\n",
        "from PIL import Image, ImageDraw, ImageFont\n",
        "import requests\n",
        "\n",
        "# Load image from URL\n",
        "url = \"https://plus.unsplash.com/premium_photo-1687653086440-7dc61b5ff5db?q=80&w=3087&auto=format&fit=crop&ixlib=rb-4.0.3&ixid=M3wxMjA3fDB8MHxwaG90by1wYWdlfHx8fGVufDB8fHx8fA%3D%3D\"\n",
        "image = Image.open(requests.get(url, stream=True).raw)\n",
        "\n",
        "# Load DETR model and processor\n",
        "processor = DetrImageProcessor.from_pretrained(\"facebook/detr-resnet-50\", revision=\"no_timm\")\n",
        "model = DetrForObjectDetection.from_pretrained(\"facebook/detr-resnet-50\", revision=\"no_timm\")\n",
        "\n",
        "# Preprocess the image\n",
        "inputs = processor(images=image, return_tensors=\"pt\")\n",
        "outputs = model(**inputs)\n",
        "\n",
        "# Post-process outputs to obtain detected objects\n",
        "target_sizes = torch.tensor([image.size[::-1]])  # Size as (height, width)\n",
        "results = processor.post_process_object_detection(outputs, target_sizes=target_sizes, threshold=0.9)[0]\n",
        "\n",
        "# Draw rectangles around detected objects\n",
        "draw = ImageDraw.Draw(image)\n",
        "font = ImageFont.load_default()\n",
        "\n",
        "for score, label, box in zip(results[\"scores\"], results[\"labels\"], results[\"boxes\"]):\n",
        "    box = [round(i, 2) for i in box.tolist()]  # Convert to a list of rounded floats\n",
        "    label_text = f\"{model.config.id2label[label.item()]}: {round(score.item(), 3)}\"\n",
        "    print(f\"Detected {label_text} at location {box}\")\n",
        "\n",
        "    # Draw rectangle\n",
        "    draw.rectangle(box, outline=\"red\", width=3)\n",
        "\n",
        "    # Draw label\n",
        "    draw.text((box[0], box[1] - 10), label_text, fill=\"red\", font=font)\n",
        "\n",
        "# Display the image\n",
        "image.save('output.jpg')"
      ],
      "metadata": {
        "colab": {
          "base_uri": "https://localhost:8080/"
        },
        "id": "EVtfE7ETfrlN",
        "outputId": "351e4482-2345-45a0-c1bb-5cf70cfdab81"
      },
      "execution_count": 8,
      "outputs": [
        {
          "output_type": "stream",
          "name": "stdout",
          "text": [
            "Detected person: 0.997 at location [761.48, 2120.81, 1267.73, 3559.22]\n",
            "Detected person: 0.999 at location [1152.04, 2320.58, 1760.96, 3878.75]\n",
            "Detected backpack: 0.991 at location [1738.11, 2283.75, 2087.27, 2885.1]\n",
            "Detected backpack: 0.989 at location [1323.95, 2646.06, 1746.22, 3295.44]\n",
            "Detected person: 0.999 at location [1582.5, 1986.5, 2232.32, 3622.71]\n"
          ]
        }
      ]
    }
  ]
}